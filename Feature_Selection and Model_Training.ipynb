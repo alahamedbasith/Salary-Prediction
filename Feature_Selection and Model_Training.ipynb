{
 "cells": [
  {
   "cell_type": "code",
   "execution_count": 1,
   "id": "9180f205",
   "metadata": {},
   "outputs": [],
   "source": [
    "import pandas as pd\n",
    "import numpy as np"
   ]
  },
  {
   "cell_type": "code",
   "execution_count": 2,
   "id": "b52784ef",
   "metadata": {},
   "outputs": [],
   "source": [
    "df = pd.read_csv('salary_preprocessed.csv')"
   ]
  },
  {
   "cell_type": "code",
   "execution_count": 3,
   "id": "f2a958c0",
   "metadata": {},
   "outputs": [
    {
     "data": {
      "text/html": [
       "<div>\n",
       "<style scoped>\n",
       "    .dataframe tbody tr th:only-of-type {\n",
       "        vertical-align: middle;\n",
       "    }\n",
       "\n",
       "    .dataframe tbody tr th {\n",
       "        vertical-align: top;\n",
       "    }\n",
       "\n",
       "    .dataframe thead th {\n",
       "        text-align: right;\n",
       "    }\n",
       "</style>\n",
       "<table border=\"1\" class=\"dataframe\">\n",
       "  <thead>\n",
       "    <tr style=\"text-align: right;\">\n",
       "      <th></th>\n",
       "      <th>Age</th>\n",
       "      <th>Years of Experience</th>\n",
       "      <th>Salary</th>\n",
       "      <th>Gender_Male</th>\n",
       "      <th>Education Level_Master's</th>\n",
       "      <th>Education Level_PhD</th>\n",
       "      <th>Experience Level_Mid</th>\n",
       "      <th>Experience Level_Senior</th>\n",
       "      <th>Job Title</th>\n",
       "    </tr>\n",
       "  </thead>\n",
       "  <tbody>\n",
       "    <tr>\n",
       "      <th>0</th>\n",
       "      <td>32</td>\n",
       "      <td>5</td>\n",
       "      <td>90000</td>\n",
       "      <td>1</td>\n",
       "      <td>0</td>\n",
       "      <td>0</td>\n",
       "      <td>1</td>\n",
       "      <td>0</td>\n",
       "      <td>159</td>\n",
       "    </tr>\n",
       "    <tr>\n",
       "      <th>1</th>\n",
       "      <td>28</td>\n",
       "      <td>3</td>\n",
       "      <td>65000</td>\n",
       "      <td>0</td>\n",
       "      <td>1</td>\n",
       "      <td>0</td>\n",
       "      <td>0</td>\n",
       "      <td>0</td>\n",
       "      <td>17</td>\n",
       "    </tr>\n",
       "    <tr>\n",
       "      <th>2</th>\n",
       "      <td>45</td>\n",
       "      <td>15</td>\n",
       "      <td>150000</td>\n",
       "      <td>1</td>\n",
       "      <td>0</td>\n",
       "      <td>1</td>\n",
       "      <td>0</td>\n",
       "      <td>1</td>\n",
       "      <td>130</td>\n",
       "    </tr>\n",
       "    <tr>\n",
       "      <th>3</th>\n",
       "      <td>36</td>\n",
       "      <td>7</td>\n",
       "      <td>60000</td>\n",
       "      <td>0</td>\n",
       "      <td>0</td>\n",
       "      <td>0</td>\n",
       "      <td>1</td>\n",
       "      <td>0</td>\n",
       "      <td>101</td>\n",
       "    </tr>\n",
       "    <tr>\n",
       "      <th>4</th>\n",
       "      <td>52</td>\n",
       "      <td>20</td>\n",
       "      <td>200000</td>\n",
       "      <td>1</td>\n",
       "      <td>1</td>\n",
       "      <td>0</td>\n",
       "      <td>0</td>\n",
       "      <td>1</td>\n",
       "      <td>22</td>\n",
       "    </tr>\n",
       "    <tr>\n",
       "      <th>...</th>\n",
       "      <td>...</td>\n",
       "      <td>...</td>\n",
       "      <td>...</td>\n",
       "      <td>...</td>\n",
       "      <td>...</td>\n",
       "      <td>...</td>\n",
       "      <td>...</td>\n",
       "      <td>...</td>\n",
       "      <td>...</td>\n",
       "    </tr>\n",
       "    <tr>\n",
       "      <th>413</th>\n",
       "      <td>43</td>\n",
       "      <td>18</td>\n",
       "      <td>170000</td>\n",
       "      <td>1</td>\n",
       "      <td>1</td>\n",
       "      <td>0</td>\n",
       "      <td>0</td>\n",
       "      <td>1</td>\n",
       "      <td>29</td>\n",
       "    </tr>\n",
       "    <tr>\n",
       "      <th>414</th>\n",
       "      <td>43</td>\n",
       "      <td>3</td>\n",
       "      <td>50000</td>\n",
       "      <td>0</td>\n",
       "      <td>0</td>\n",
       "      <td>0</td>\n",
       "      <td>0</td>\n",
       "      <td>0</td>\n",
       "      <td>38</td>\n",
       "    </tr>\n",
       "    <tr>\n",
       "      <th>415</th>\n",
       "      <td>43</td>\n",
       "      <td>14</td>\n",
       "      <td>150000</td>\n",
       "      <td>1</td>\n",
       "      <td>0</td>\n",
       "      <td>0</td>\n",
       "      <td>0</td>\n",
       "      <td>1</td>\n",
       "      <td>141</td>\n",
       "    </tr>\n",
       "    <tr>\n",
       "      <th>416</th>\n",
       "      <td>43</td>\n",
       "      <td>16</td>\n",
       "      <td>160000</td>\n",
       "      <td>0</td>\n",
       "      <td>0</td>\n",
       "      <td>1</td>\n",
       "      <td>0</td>\n",
       "      <td>1</td>\n",
       "      <td>114</td>\n",
       "    </tr>\n",
       "    <tr>\n",
       "      <th>417</th>\n",
       "      <td>43</td>\n",
       "      <td>4</td>\n",
       "      <td>60000</td>\n",
       "      <td>1</td>\n",
       "      <td>0</td>\n",
       "      <td>0</td>\n",
       "      <td>0</td>\n",
       "      <td>0</td>\n",
       "      <td>49</td>\n",
       "    </tr>\n",
       "  </tbody>\n",
       "</table>\n",
       "<p>418 rows × 9 columns</p>\n",
       "</div>"
      ],
      "text/plain": [
       "     Age  Years of Experience  Salary  Gender_Male  Education Level_Master's  \\\n",
       "0     32                    5   90000            1                         0   \n",
       "1     28                    3   65000            0                         1   \n",
       "2     45                   15  150000            1                         0   \n",
       "3     36                    7   60000            0                         0   \n",
       "4     52                   20  200000            1                         1   \n",
       "..   ...                  ...     ...          ...                       ...   \n",
       "413   43                   18  170000            1                         1   \n",
       "414   43                    3   50000            0                         0   \n",
       "415   43                   14  150000            1                         0   \n",
       "416   43                   16  160000            0                         0   \n",
       "417   43                    4   60000            1                         0   \n",
       "\n",
       "     Education Level_PhD  Experience Level_Mid  Experience Level_Senior  \\\n",
       "0                      0                     1                        0   \n",
       "1                      0                     0                        0   \n",
       "2                      1                     0                        1   \n",
       "3                      0                     1                        0   \n",
       "4                      0                     0                        1   \n",
       "..                   ...                   ...                      ...   \n",
       "413                    0                     0                        1   \n",
       "414                    0                     0                        0   \n",
       "415                    0                     0                        1   \n",
       "416                    1                     0                        1   \n",
       "417                    0                     0                        0   \n",
       "\n",
       "     Job Title  \n",
       "0          159  \n",
       "1           17  \n",
       "2          130  \n",
       "3          101  \n",
       "4           22  \n",
       "..         ...  \n",
       "413         29  \n",
       "414         38  \n",
       "415        141  \n",
       "416        114  \n",
       "417         49  \n",
       "\n",
       "[418 rows x 9 columns]"
      ]
     },
     "execution_count": 3,
     "metadata": {},
     "output_type": "execute_result"
    }
   ],
   "source": [
    "df"
   ]
  },
  {
   "cell_type": "code",
   "execution_count": 4,
   "id": "1ea2c75f",
   "metadata": {},
   "outputs": [
    {
     "data": {
      "text/html": [
       "<div>\n",
       "<style scoped>\n",
       "    .dataframe tbody tr th:only-of-type {\n",
       "        vertical-align: middle;\n",
       "    }\n",
       "\n",
       "    .dataframe tbody tr th {\n",
       "        vertical-align: top;\n",
       "    }\n",
       "\n",
       "    .dataframe thead th {\n",
       "        text-align: right;\n",
       "    }\n",
       "</style>\n",
       "<table border=\"1\" class=\"dataframe\">\n",
       "  <thead>\n",
       "    <tr style=\"text-align: right;\">\n",
       "      <th></th>\n",
       "      <th>Age</th>\n",
       "      <th>Years of Experience</th>\n",
       "      <th>Gender_Male</th>\n",
       "      <th>Education Level_Master's</th>\n",
       "      <th>Education Level_PhD</th>\n",
       "      <th>Experience Level_Mid</th>\n",
       "      <th>Experience Level_Senior</th>\n",
       "      <th>Job Title</th>\n",
       "    </tr>\n",
       "  </thead>\n",
       "  <tbody>\n",
       "    <tr>\n",
       "      <th>0</th>\n",
       "      <td>32</td>\n",
       "      <td>5</td>\n",
       "      <td>1</td>\n",
       "      <td>0</td>\n",
       "      <td>0</td>\n",
       "      <td>1</td>\n",
       "      <td>0</td>\n",
       "      <td>159</td>\n",
       "    </tr>\n",
       "    <tr>\n",
       "      <th>1</th>\n",
       "      <td>28</td>\n",
       "      <td>3</td>\n",
       "      <td>0</td>\n",
       "      <td>1</td>\n",
       "      <td>0</td>\n",
       "      <td>0</td>\n",
       "      <td>0</td>\n",
       "      <td>17</td>\n",
       "    </tr>\n",
       "    <tr>\n",
       "      <th>2</th>\n",
       "      <td>45</td>\n",
       "      <td>15</td>\n",
       "      <td>1</td>\n",
       "      <td>0</td>\n",
       "      <td>1</td>\n",
       "      <td>0</td>\n",
       "      <td>1</td>\n",
       "      <td>130</td>\n",
       "    </tr>\n",
       "    <tr>\n",
       "      <th>3</th>\n",
       "      <td>36</td>\n",
       "      <td>7</td>\n",
       "      <td>0</td>\n",
       "      <td>0</td>\n",
       "      <td>0</td>\n",
       "      <td>1</td>\n",
       "      <td>0</td>\n",
       "      <td>101</td>\n",
       "    </tr>\n",
       "    <tr>\n",
       "      <th>4</th>\n",
       "      <td>52</td>\n",
       "      <td>20</td>\n",
       "      <td>1</td>\n",
       "      <td>1</td>\n",
       "      <td>0</td>\n",
       "      <td>0</td>\n",
       "      <td>1</td>\n",
       "      <td>22</td>\n",
       "    </tr>\n",
       "  </tbody>\n",
       "</table>\n",
       "</div>"
      ],
      "text/plain": [
       "   Age  Years of Experience  Gender_Male  Education Level_Master's  \\\n",
       "0   32                    5            1                         0   \n",
       "1   28                    3            0                         1   \n",
       "2   45                   15            1                         0   \n",
       "3   36                    7            0                         0   \n",
       "4   52                   20            1                         1   \n",
       "\n",
       "   Education Level_PhD  Experience Level_Mid  Experience Level_Senior  \\\n",
       "0                    0                     1                        0   \n",
       "1                    0                     0                        0   \n",
       "2                    1                     0                        1   \n",
       "3                    0                     1                        0   \n",
       "4                    0                     0                        1   \n",
       "\n",
       "   Job Title  \n",
       "0        159  \n",
       "1         17  \n",
       "2        130  \n",
       "3        101  \n",
       "4         22  "
      ]
     },
     "execution_count": 4,
     "metadata": {},
     "output_type": "execute_result"
    }
   ],
   "source": [
    "## Indepedent and Dependent Feature\n",
    "X = df.drop('Salary',axis=1)\n",
    "X.head()"
   ]
  },
  {
   "cell_type": "code",
   "execution_count": 5,
   "id": "2eeabd14",
   "metadata": {},
   "outputs": [
    {
     "data": {
      "text/plain": [
       "0     90000\n",
       "1     65000\n",
       "2    150000\n",
       "3     60000\n",
       "4    200000\n",
       "Name: Salary, dtype: int64"
      ]
     },
     "execution_count": 5,
     "metadata": {},
     "output_type": "execute_result"
    }
   ],
   "source": [
    "y = df['Salary']\n",
    "y.head()"
   ]
  },
  {
   "cell_type": "markdown",
   "id": "13bce403",
   "metadata": {},
   "source": [
    "### Feature Selection \n",
    "\n",
    "- Just testing with the features not applying in model for prediction because we have only few features\n",
    "- Its applicable for large number of features present in the dataset"
   ]
  },
  {
   "cell_type": "code",
   "execution_count": 6,
   "id": "d46c44b4",
   "metadata": {},
   "outputs": [],
   "source": [
    "# Now understand about feature importance which feature is highly important\n",
    "\n",
    "from sklearn.ensemble import ExtraTreesRegressor\n",
    "model = ExtraTreesRegressor()"
   ]
  },
  {
   "cell_type": "code",
   "execution_count": 7,
   "id": "6ce9ed7f",
   "metadata": {},
   "outputs": [],
   "source": [
    "# Define the parameter grid for hyperparameter tuning\n",
    "param_grid = {\n",
    "    'n_estimators': [100, 200, 300],\n",
    "    'max_depth': [None, 10, 20, 30],\n",
    "    'min_samples_split': [2, 5, 10],\n",
    "    'min_samples_leaf': [1, 2, 4],\n",
    "    'max_features': ['auto', 'sqrt', 'log2'],\n",
    "    'bootstrap': [True, False]\n",
    "}"
   ]
  },
  {
   "cell_type": "code",
   "execution_count": 8,
   "id": "9e777c3c",
   "metadata": {},
   "outputs": [],
   "source": [
    "# Initialize GridSearchCV\n",
    "from sklearn.model_selection import GridSearchCV\n",
    "grid_search = GridSearchCV(estimator=model, param_grid=param_grid, cv=5, n_jobs=-1, verbose=2, scoring='neg_mean_squared_error')"
   ]
  },
  {
   "cell_type": "code",
   "execution_count": 9,
   "id": "6945e91c",
   "metadata": {},
   "outputs": [
    {
     "name": "stdout",
     "output_type": "stream",
     "text": [
      "Fitting 5 folds for each of 648 candidates, totalling 3240 fits\n"
     ]
    },
    {
     "name": "stderr",
     "output_type": "stream",
     "text": [
      "C:\\Anaconda\\Lib\\site-packages\\sklearn\\model_selection\\_validation.py:425: FitFailedWarning: \n",
      "1080 fits failed out of a total of 3240.\n",
      "The score on these train-test partitions for these parameters will be set to nan.\n",
      "If these failures are not expected, you can try to debug them by setting error_score='raise'.\n",
      "\n",
      "Below are more details about the failures:\n",
      "--------------------------------------------------------------------------------\n",
      "309 fits failed with the following error:\n",
      "Traceback (most recent call last):\n",
      "  File \"C:\\Anaconda\\Lib\\site-packages\\sklearn\\model_selection\\_validation.py\", line 732, in _fit_and_score\n",
      "    estimator.fit(X_train, y_train, **fit_params)\n",
      "  File \"C:\\Anaconda\\Lib\\site-packages\\sklearn\\base.py\", line 1144, in wrapper\n",
      "    estimator._validate_params()\n",
      "  File \"C:\\Anaconda\\Lib\\site-packages\\sklearn\\base.py\", line 637, in _validate_params\n",
      "    validate_parameter_constraints(\n",
      "  File \"C:\\Anaconda\\Lib\\site-packages\\sklearn\\utils\\_param_validation.py\", line 95, in validate_parameter_constraints\n",
      "    raise InvalidParameterError(\n",
      "sklearn.utils._param_validation.InvalidParameterError: The 'max_features' parameter of ExtraTreesRegressor must be an int in the range [1, inf), a float in the range (0.0, 1.0], a str among {'sqrt', 'log2'} or None. Got 'auto' instead.\n",
      "\n",
      "--------------------------------------------------------------------------------\n",
      "771 fits failed with the following error:\n",
      "Traceback (most recent call last):\n",
      "  File \"C:\\Anaconda\\Lib\\site-packages\\sklearn\\model_selection\\_validation.py\", line 732, in _fit_and_score\n",
      "    estimator.fit(X_train, y_train, **fit_params)\n",
      "  File \"C:\\Anaconda\\Lib\\site-packages\\sklearn\\base.py\", line 1144, in wrapper\n",
      "    estimator._validate_params()\n",
      "  File \"C:\\Anaconda\\Lib\\site-packages\\sklearn\\base.py\", line 637, in _validate_params\n",
      "    validate_parameter_constraints(\n",
      "  File \"C:\\Anaconda\\Lib\\site-packages\\sklearn\\utils\\_param_validation.py\", line 95, in validate_parameter_constraints\n",
      "    raise InvalidParameterError(\n",
      "sklearn.utils._param_validation.InvalidParameterError: The 'max_features' parameter of ExtraTreesRegressor must be an int in the range [1, inf), a float in the range (0.0, 1.0], a str among {'log2', 'sqrt'} or None. Got 'auto' instead.\n",
      "\n",
      "  warnings.warn(some_fits_failed_message, FitFailedWarning)\n",
      "C:\\Anaconda\\Lib\\site-packages\\sklearn\\model_selection\\_search.py:976: UserWarning: One or more of the test scores are non-finite: [            nan             nan             nan             nan\n",
      "             nan             nan             nan             nan\n",
      "             nan             nan             nan             nan\n",
      "             nan             nan             nan             nan\n",
      "             nan             nan             nan             nan\n",
      "             nan             nan             nan             nan\n",
      "             nan             nan             nan -2.45945077e+08\n",
      " -2.38793432e+08 -2.41328746e+08 -2.42757637e+08 -2.53183776e+08\n",
      " -2.47920741e+08 -2.63830094e+08 -2.53028224e+08 -2.60616403e+08\n",
      " -2.78071164e+08 -2.63323061e+08 -2.68807114e+08 -2.65344200e+08\n",
      " -2.72665005e+08 -2.70165474e+08 -2.79277800e+08 -2.70585594e+08\n",
      " -2.75985909e+08 -3.12569999e+08 -3.07457097e+08 -3.04145843e+08\n",
      " -3.04398025e+08 -3.04675859e+08 -3.00336930e+08 -3.10106194e+08\n",
      " -2.99399766e+08 -3.07354515e+08 -2.42051704e+08 -2.40927515e+08\n",
      " -2.48799307e+08 -2.52942352e+08 -2.44944670e+08 -2.52966611e+08\n",
      " -2.55136591e+08 -2.60865238e+08 -2.52655248e+08 -2.60282805e+08\n",
      " -2.61386246e+08 -2.57525900e+08 -2.56411159e+08 -2.64614462e+08\n",
      " -2.60760917e+08 -2.65101199e+08 -2.69993427e+08 -2.64357873e+08\n",
      " -2.81689900e+08 -2.76587490e+08 -2.85653258e+08 -2.80352731e+08\n",
      " -2.77263645e+08 -2.80063909e+08 -2.82835878e+08 -2.76018824e+08\n",
      " -2.84365908e+08             nan             nan             nan\n",
      "             nan             nan             nan             nan\n",
      "             nan             nan             nan             nan\n",
      "             nan             nan             nan             nan\n",
      "             nan             nan             nan             nan\n",
      "             nan             nan             nan             nan\n",
      "             nan             nan             nan             nan\n",
      " -2.38654273e+08 -2.40694898e+08 -2.35013021e+08 -2.46522121e+08\n",
      " -2.44370288e+08 -2.46597998e+08 -2.57554638e+08 -2.57699942e+08\n",
      " -2.58966529e+08 -2.62866726e+08 -2.64845906e+08 -2.62618370e+08\n",
      " -2.77519571e+08 -2.64674760e+08 -2.68213621e+08 -2.91293493e+08\n",
      " -2.80067973e+08 -2.76921772e+08 -3.02419700e+08 -2.99521630e+08\n",
      " -3.00427384e+08 -2.99643773e+08 -2.95969822e+08 -3.04137929e+08\n",
      " -3.17522716e+08 -3.01826940e+08 -3.05751991e+08 -2.42318410e+08\n",
      " -2.40012519e+08 -2.46917059e+08 -2.43090243e+08 -2.46920893e+08\n",
      " -2.47437261e+08 -2.60902615e+08 -2.61210343e+08 -2.56222669e+08\n",
      " -2.51770677e+08 -2.58348026e+08 -2.61070066e+08 -2.58666360e+08\n",
      " -2.59248139e+08 -2.59528114e+08 -2.71477275e+08 -2.65069635e+08\n",
      " -2.66896321e+08 -2.72693916e+08 -2.80028480e+08 -2.82221422e+08\n",
      " -2.82782059e+08 -2.84622146e+08 -2.81383598e+08 -2.79952409e+08\n",
      " -2.83344136e+08 -2.88637521e+08             nan             nan\n",
      "             nan             nan             nan             nan\n",
      "             nan             nan             nan             nan\n",
      "             nan             nan             nan             nan\n",
      "             nan             nan             nan             nan\n",
      "             nan             nan             nan             nan\n",
      "             nan             nan             nan             nan\n",
      "             nan -2.44170115e+08 -2.39241391e+08 -2.43426090e+08\n",
      " -2.46252418e+08 -2.44332212e+08 -2.48203403e+08 -2.56627935e+08\n",
      " -2.58405965e+08 -2.57130730e+08 -2.71077102e+08 -2.67846156e+08\n",
      " -2.63878652e+08 -2.83290305e+08 -2.64944719e+08 -2.70829082e+08\n",
      " -2.77133310e+08 -2.74674121e+08 -2.75864160e+08 -3.04390331e+08\n",
      " -2.92038529e+08 -3.01362470e+08 -3.09730235e+08 -3.03781097e+08\n",
      " -3.05245684e+08 -2.98707693e+08 -3.03198646e+08 -3.06582044e+08\n",
      " -2.37793571e+08 -2.42806593e+08 -2.44471540e+08 -2.56349281e+08\n",
      " -2.48568964e+08 -2.42766527e+08 -2.59804345e+08 -2.53035540e+08\n",
      " -2.60304228e+08 -2.51452716e+08 -2.56463810e+08 -2.63758574e+08\n",
      " -2.60762908e+08 -2.55582217e+08 -2.58001027e+08 -2.63426851e+08\n",
      " -2.70574541e+08 -2.68406895e+08 -2.79003164e+08 -2.85423048e+08\n",
      " -2.79344694e+08 -2.81365355e+08 -2.85890289e+08 -2.82745873e+08\n",
      " -2.84916476e+08 -2.74329331e+08 -2.80748441e+08             nan\n",
      "             nan             nan             nan             nan\n",
      "             nan             nan             nan             nan\n",
      "             nan             nan             nan             nan\n",
      "             nan             nan             nan             nan\n",
      "             nan             nan             nan             nan\n",
      "             nan             nan             nan             nan\n",
      "             nan             nan -2.43067716e+08 -2.37726133e+08\n",
      " -2.40984255e+08 -2.48217899e+08 -2.48451735e+08 -2.46037763e+08\n",
      " -2.58584681e+08 -2.59603100e+08 -2.67127160e+08 -2.66794563e+08\n",
      " -2.64106979e+08 -2.65848514e+08 -2.63543566e+08 -2.68052574e+08\n",
      " -2.65418880e+08 -2.72231130e+08 -2.81005142e+08 -2.76190895e+08\n",
      " -3.10439747e+08 -3.10043650e+08 -2.96433479e+08 -3.05102406e+08\n",
      " -3.14184307e+08 -3.04457264e+08 -3.15389377e+08 -3.04375939e+08\n",
      " -3.03541080e+08 -2.48775235e+08 -2.42995233e+08 -2.40239928e+08\n",
      " -2.44190812e+08 -2.49598389e+08 -2.45724210e+08 -2.61411001e+08\n",
      " -2.54743743e+08 -2.56987905e+08 -2.67711611e+08 -2.52373620e+08\n",
      " -2.60438313e+08 -2.61304714e+08 -2.62534986e+08 -2.59142792e+08\n",
      " -2.68909144e+08 -2.72632281e+08 -2.65420740e+08 -2.86293228e+08\n",
      " -2.86368663e+08 -2.79959413e+08 -2.81952796e+08 -2.77813369e+08\n",
      " -2.83673550e+08 -2.84252325e+08 -2.91656389e+08 -2.81013417e+08\n",
      "             nan             nan             nan             nan\n",
      "             nan             nan             nan             nan\n",
      "             nan             nan             nan             nan\n",
      "             nan             nan             nan             nan\n",
      "             nan             nan             nan             nan\n",
      "             nan             nan             nan             nan\n",
      "             nan             nan             nan -2.49186572e+08\n",
      " -2.44218175e+08 -2.39957468e+08 -2.42913610e+08 -2.42539656e+08\n",
      " -2.43807361e+08 -2.54635295e+08 -2.51404106e+08 -2.53373753e+08\n",
      " -2.66807540e+08 -2.61354317e+08 -2.57787426e+08 -2.66330103e+08\n",
      " -2.60763158e+08 -2.60800104e+08 -2.66228051e+08 -2.67037171e+08\n",
      " -2.63931218e+08 -2.89710336e+08 -2.91050824e+08 -2.87555568e+08\n",
      " -2.88284271e+08 -2.87743075e+08 -2.86514542e+08 -2.90848961e+08\n",
      " -2.94015482e+08 -2.88543057e+08 -2.48296190e+08 -2.49419051e+08\n",
      " -2.53288777e+08 -2.42087079e+08 -2.47317189e+08 -2.48572363e+08\n",
      " -2.52511813e+08 -2.53055603e+08 -2.51844765e+08 -2.56937696e+08\n",
      " -2.54888183e+08 -2.55617215e+08 -2.61642672e+08 -2.54284984e+08\n",
      " -2.54086497e+08 -2.52354141e+08 -2.61056234e+08 -2.59152629e+08\n",
      " -2.78160032e+08 -2.68366023e+08 -2.74102113e+08 -2.70699956e+08\n",
      " -2.77082930e+08 -2.70005288e+08 -2.77392373e+08 -2.73742691e+08\n",
      " -2.72549067e+08             nan             nan             nan\n",
      "             nan             nan             nan             nan\n",
      "             nan             nan             nan             nan\n",
      "             nan             nan             nan             nan\n",
      "             nan             nan             nan             nan\n",
      "             nan             nan             nan             nan\n",
      "             nan             nan             nan             nan\n",
      " -2.37696443e+08 -2.32412192e+08 -2.36709615e+08 -2.43752295e+08\n",
      " -2.39657454e+08 -2.41696816e+08 -2.52617126e+08 -2.54821944e+08\n",
      " -2.48306398e+08 -2.60720800e+08 -2.62077448e+08 -2.65297581e+08\n",
      " -2.52386975e+08 -2.60651075e+08 -2.57819294e+08 -2.71535929e+08\n",
      " -2.72264793e+08 -2.63474344e+08 -2.94478385e+08 -2.84324656e+08\n",
      " -2.92655152e+08 -2.91370106e+08 -2.88524468e+08 -2.83600812e+08\n",
      " -2.83888409e+08 -2.88016300e+08 -2.92991089e+08 -2.44226869e+08\n",
      " -2.41143981e+08 -2.39958443e+08 -2.41576424e+08 -2.44206383e+08\n",
      " -2.43013209e+08 -2.58777189e+08 -2.54267154e+08 -2.47143336e+08\n",
      " -2.59479725e+08 -2.58676280e+08 -2.55329906e+08 -2.58179358e+08\n",
      " -2.56534427e+08 -2.52644653e+08 -2.59429226e+08 -2.55859892e+08\n",
      " -2.60616540e+08 -2.72527301e+08 -2.70516684e+08 -2.75307251e+08\n",
      " -2.73229323e+08 -2.76723195e+08 -2.80173088e+08 -2.68200982e+08\n",
      " -2.74042765e+08 -2.70400366e+08             nan             nan\n",
      "             nan             nan             nan             nan\n",
      "             nan             nan             nan             nan\n",
      "             nan             nan             nan             nan\n",
      "             nan             nan             nan             nan\n",
      "             nan             nan             nan             nan\n",
      "             nan             nan             nan             nan\n",
      "             nan -2.47358098e+08 -2.39267414e+08 -2.43720215e+08\n",
      " -2.45106321e+08 -2.42855524e+08 -2.42455522e+08 -2.44975450e+08\n",
      " -2.48840080e+08 -2.48783584e+08 -2.56708528e+08 -2.63987671e+08\n",
      " -2.62768854e+08 -2.66327071e+08 -2.57000347e+08 -2.63388568e+08\n",
      " -2.60129283e+08 -2.59267748e+08 -2.60855695e+08 -2.95715634e+08\n",
      " -2.81356984e+08 -2.88159531e+08 -2.99522798e+08 -2.87443847e+08\n",
      " -2.91977050e+08 -2.91694129e+08 -2.88144677e+08 -2.87605016e+08\n",
      " -2.45513134e+08 -2.49478542e+08 -2.49273480e+08 -2.50984360e+08\n",
      " -2.43084140e+08 -2.43287931e+08 -2.52272326e+08 -2.46294706e+08\n",
      " -2.49851152e+08 -2.61376027e+08 -2.53985060e+08 -2.57524087e+08\n",
      " -2.55896262e+08 -2.51969148e+08 -2.57039203e+08 -2.47454036e+08\n",
      " -2.66237098e+08 -2.58925161e+08 -2.74869786e+08 -2.73585107e+08\n",
      " -2.70518430e+08 -2.79495330e+08 -2.74937846e+08 -2.73459129e+08\n",
      " -2.77909489e+08 -2.74783491e+08 -2.70385565e+08             nan\n",
      "             nan             nan             nan             nan\n",
      "             nan             nan             nan             nan\n",
      "             nan             nan             nan             nan\n",
      "             nan             nan             nan             nan\n",
      "             nan             nan             nan             nan\n",
      "             nan             nan             nan             nan\n",
      "             nan             nan -2.42777929e+08 -2.38663953e+08\n",
      " -2.46488086e+08 -2.43300569e+08 -2.46336579e+08 -2.45328614e+08\n",
      " -2.49814927e+08 -2.52963847e+08 -2.46674007e+08 -2.54463123e+08\n",
      " -2.61687139e+08 -2.61780640e+08 -2.67249818e+08 -2.59554344e+08\n",
      " -2.60494279e+08 -2.77113423e+08 -2.59977178e+08 -2.70025708e+08\n",
      " -2.96993316e+08 -2.91468577e+08 -2.88962130e+08 -2.87714766e+08\n",
      " -2.94758762e+08 -2.83459921e+08 -3.04778357e+08 -2.92337453e+08\n",
      " -2.93844575e+08 -2.43845376e+08 -2.56263365e+08 -2.50974384e+08\n",
      " -2.43598654e+08 -2.50293538e+08 -2.45952543e+08 -2.54479510e+08\n",
      " -2.47555162e+08 -2.49744368e+08 -2.62020006e+08 -2.57578253e+08\n",
      " -2.55458282e+08 -2.56230780e+08 -2.50755709e+08 -2.55862526e+08\n",
      " -2.67443550e+08 -2.54565257e+08 -2.58933367e+08 -2.73088315e+08\n",
      " -2.68876901e+08 -2.73360889e+08 -2.76240899e+08 -2.68730642e+08\n",
      " -2.73502170e+08 -2.74628231e+08 -2.69828510e+08 -2.72914412e+08]\n",
      "  warnings.warn(\n"
     ]
    },
    {
     "data": {
      "text/html": [
       "<style>#sk-container-id-1 {color: black;}#sk-container-id-1 pre{padding: 0;}#sk-container-id-1 div.sk-toggleable {background-color: white;}#sk-container-id-1 label.sk-toggleable__label {cursor: pointer;display: block;width: 100%;margin-bottom: 0;padding: 0.3em;box-sizing: border-box;text-align: center;}#sk-container-id-1 label.sk-toggleable__label-arrow:before {content: \"▸\";float: left;margin-right: 0.25em;color: #696969;}#sk-container-id-1 label.sk-toggleable__label-arrow:hover:before {color: black;}#sk-container-id-1 div.sk-estimator:hover label.sk-toggleable__label-arrow:before {color: black;}#sk-container-id-1 div.sk-toggleable__content {max-height: 0;max-width: 0;overflow: hidden;text-align: left;background-color: #f0f8ff;}#sk-container-id-1 div.sk-toggleable__content pre {margin: 0.2em;color: black;border-radius: 0.25em;background-color: #f0f8ff;}#sk-container-id-1 input.sk-toggleable__control:checked~div.sk-toggleable__content {max-height: 200px;max-width: 100%;overflow: auto;}#sk-container-id-1 input.sk-toggleable__control:checked~label.sk-toggleable__label-arrow:before {content: \"▾\";}#sk-container-id-1 div.sk-estimator input.sk-toggleable__control:checked~label.sk-toggleable__label {background-color: #d4ebff;}#sk-container-id-1 div.sk-label input.sk-toggleable__control:checked~label.sk-toggleable__label {background-color: #d4ebff;}#sk-container-id-1 input.sk-hidden--visually {border: 0;clip: rect(1px 1px 1px 1px);clip: rect(1px, 1px, 1px, 1px);height: 1px;margin: -1px;overflow: hidden;padding: 0;position: absolute;width: 1px;}#sk-container-id-1 div.sk-estimator {font-family: monospace;background-color: #f0f8ff;border: 1px dotted black;border-radius: 0.25em;box-sizing: border-box;margin-bottom: 0.5em;}#sk-container-id-1 div.sk-estimator:hover {background-color: #d4ebff;}#sk-container-id-1 div.sk-parallel-item::after {content: \"\";width: 100%;border-bottom: 1px solid gray;flex-grow: 1;}#sk-container-id-1 div.sk-label:hover label.sk-toggleable__label {background-color: #d4ebff;}#sk-container-id-1 div.sk-serial::before {content: \"\";position: absolute;border-left: 1px solid gray;box-sizing: border-box;top: 0;bottom: 0;left: 50%;z-index: 0;}#sk-container-id-1 div.sk-serial {display: flex;flex-direction: column;align-items: center;background-color: white;padding-right: 0.2em;padding-left: 0.2em;position: relative;}#sk-container-id-1 div.sk-item {position: relative;z-index: 1;}#sk-container-id-1 div.sk-parallel {display: flex;align-items: stretch;justify-content: center;background-color: white;position: relative;}#sk-container-id-1 div.sk-item::before, #sk-container-id-1 div.sk-parallel-item::before {content: \"\";position: absolute;border-left: 1px solid gray;box-sizing: border-box;top: 0;bottom: 0;left: 50%;z-index: -1;}#sk-container-id-1 div.sk-parallel-item {display: flex;flex-direction: column;z-index: 1;position: relative;background-color: white;}#sk-container-id-1 div.sk-parallel-item:first-child::after {align-self: flex-end;width: 50%;}#sk-container-id-1 div.sk-parallel-item:last-child::after {align-self: flex-start;width: 50%;}#sk-container-id-1 div.sk-parallel-item:only-child::after {width: 0;}#sk-container-id-1 div.sk-dashed-wrapped {border: 1px dashed gray;margin: 0 0.4em 0.5em 0.4em;box-sizing: border-box;padding-bottom: 0.4em;background-color: white;}#sk-container-id-1 div.sk-label label {font-family: monospace;font-weight: bold;display: inline-block;line-height: 1.2em;}#sk-container-id-1 div.sk-label-container {text-align: center;}#sk-container-id-1 div.sk-container {/* jupyter's `normalize.less` sets `[hidden] { display: none; }` but bootstrap.min.css set `[hidden] { display: none !important; }` so we also need the `!important` here to be able to override the default hidden behavior on the sphinx rendered scikit-learn.org. See: https://github.com/scikit-learn/scikit-learn/issues/21755 */display: inline-block !important;position: relative;}#sk-container-id-1 div.sk-text-repr-fallback {display: none;}</style><div id=\"sk-container-id-1\" class=\"sk-top-container\"><div class=\"sk-text-repr-fallback\"><pre>GridSearchCV(cv=5, estimator=ExtraTreesRegressor(), n_jobs=-1,\n",
       "             param_grid={&#x27;bootstrap&#x27;: [True, False],\n",
       "                         &#x27;max_depth&#x27;: [None, 10, 20, 30],\n",
       "                         &#x27;max_features&#x27;: [&#x27;auto&#x27;, &#x27;sqrt&#x27;, &#x27;log2&#x27;],\n",
       "                         &#x27;min_samples_leaf&#x27;: [1, 2, 4],\n",
       "                         &#x27;min_samples_split&#x27;: [2, 5, 10],\n",
       "                         &#x27;n_estimators&#x27;: [100, 200, 300]},\n",
       "             scoring=&#x27;neg_mean_squared_error&#x27;, verbose=2)</pre><b>In a Jupyter environment, please rerun this cell to show the HTML representation or trust the notebook. <br />On GitHub, the HTML representation is unable to render, please try loading this page with nbviewer.org.</b></div><div class=\"sk-container\" hidden><div class=\"sk-item sk-dashed-wrapped\"><div class=\"sk-label-container\"><div class=\"sk-label sk-toggleable\"><input class=\"sk-toggleable__control sk-hidden--visually\" id=\"sk-estimator-id-1\" type=\"checkbox\" ><label for=\"sk-estimator-id-1\" class=\"sk-toggleable__label sk-toggleable__label-arrow\">GridSearchCV</label><div class=\"sk-toggleable__content\"><pre>GridSearchCV(cv=5, estimator=ExtraTreesRegressor(), n_jobs=-1,\n",
       "             param_grid={&#x27;bootstrap&#x27;: [True, False],\n",
       "                         &#x27;max_depth&#x27;: [None, 10, 20, 30],\n",
       "                         &#x27;max_features&#x27;: [&#x27;auto&#x27;, &#x27;sqrt&#x27;, &#x27;log2&#x27;],\n",
       "                         &#x27;min_samples_leaf&#x27;: [1, 2, 4],\n",
       "                         &#x27;min_samples_split&#x27;: [2, 5, 10],\n",
       "                         &#x27;n_estimators&#x27;: [100, 200, 300]},\n",
       "             scoring=&#x27;neg_mean_squared_error&#x27;, verbose=2)</pre></div></div></div><div class=\"sk-parallel\"><div class=\"sk-parallel-item\"><div class=\"sk-item\"><div class=\"sk-label-container\"><div class=\"sk-label sk-toggleable\"><input class=\"sk-toggleable__control sk-hidden--visually\" id=\"sk-estimator-id-2\" type=\"checkbox\" ><label for=\"sk-estimator-id-2\" class=\"sk-toggleable__label sk-toggleable__label-arrow\">estimator: ExtraTreesRegressor</label><div class=\"sk-toggleable__content\"><pre>ExtraTreesRegressor()</pre></div></div></div><div class=\"sk-serial\"><div class=\"sk-item\"><div class=\"sk-estimator sk-toggleable\"><input class=\"sk-toggleable__control sk-hidden--visually\" id=\"sk-estimator-id-3\" type=\"checkbox\" ><label for=\"sk-estimator-id-3\" class=\"sk-toggleable__label sk-toggleable__label-arrow\">ExtraTreesRegressor</label><div class=\"sk-toggleable__content\"><pre>ExtraTreesRegressor()</pre></div></div></div></div></div></div></div></div></div></div>"
      ],
      "text/plain": [
       "GridSearchCV(cv=5, estimator=ExtraTreesRegressor(), n_jobs=-1,\n",
       "             param_grid={'bootstrap': [True, False],\n",
       "                         'max_depth': [None, 10, 20, 30],\n",
       "                         'max_features': ['auto', 'sqrt', 'log2'],\n",
       "                         'min_samples_leaf': [1, 2, 4],\n",
       "                         'min_samples_split': [2, 5, 10],\n",
       "                         'n_estimators': [100, 200, 300]},\n",
       "             scoring='neg_mean_squared_error', verbose=2)"
      ]
     },
     "execution_count": 9,
     "metadata": {},
     "output_type": "execute_result"
    }
   ],
   "source": [
    "grid_search.fit(X,y)"
   ]
  },
  {
   "cell_type": "code",
   "execution_count": 10,
   "id": "719beff6",
   "metadata": {},
   "outputs": [],
   "source": [
    "# Access the best model\n",
    "best_model_feature = grid_search.best_estimator_"
   ]
  },
  {
   "cell_type": "code",
   "execution_count": 11,
   "id": "3b26c7fc",
   "metadata": {},
   "outputs": [
    {
     "data": {
      "text/plain": [
       "array([0.19884209, 0.25915101, 0.01826797, 0.06516144, 0.09054209,\n",
       "       0.03162079, 0.2649545 , 0.0714601 ])"
      ]
     },
     "execution_count": 11,
     "metadata": {},
     "output_type": "execute_result"
    }
   ],
   "source": [
    "best_model_feature.feature_importances_"
   ]
  },
  {
   "cell_type": "code",
   "execution_count": 12,
   "id": "f78b5c17",
   "metadata": {},
   "outputs": [
    {
     "data": {
      "text/plain": [
       "Age                         0.198842\n",
       "Years of Experience         0.259151\n",
       "Gender_Male                 0.018268\n",
       "Education Level_Master's    0.065161\n",
       "Education Level_PhD         0.090542\n",
       "Experience Level_Mid        0.031621\n",
       "Experience Level_Senior     0.264955\n",
       "Job Title                   0.071460\n",
       "dtype: float64"
      ]
     },
     "execution_count": 12,
     "metadata": {},
     "output_type": "execute_result"
    }
   ],
   "source": [
    "# Plot the graph\n",
    "\n",
    "feat_importances = pd.Series(best_model_feature.feature_importances_,index=X.columns)\n",
    "feat_importances"
   ]
  },
  {
   "cell_type": "code",
   "execution_count": 13,
   "id": "870f8af4",
   "metadata": {},
   "outputs": [
    {
     "data": {
      "text/plain": [
       "Experience Level_Senior    0.264955\n",
       "Years of Experience        0.259151\n",
       "Age                        0.198842\n",
       "Education Level_PhD        0.090542\n",
       "Job Title                  0.071460\n",
       "dtype: float64"
      ]
     },
     "execution_count": 13,
     "metadata": {},
     "output_type": "execute_result"
    }
   ],
   "source": [
    "feat_importances.nlargest(5)"
   ]
  },
  {
   "cell_type": "code",
   "execution_count": 14,
   "id": "4d793c57",
   "metadata": {},
   "outputs": [
    {
     "data": {
      "text/plain": [
       "<Axes: >"
      ]
     },
     "execution_count": 14,
     "metadata": {},
     "output_type": "execute_result"
    },
    {
     "data": {
      "image/png": "[encoded data removed]",
      "text/plain": [
       "<Figure size 640x480 with 1 Axes>"
      ]
     },
     "metadata": {},
     "output_type": "display_data"
    }
   ],
   "source": [
    "feat_importances.nlargest(5).plot(kind=\"barh\")"
   ]
  },
  {
   "cell_type": "markdown",
   "id": "65adc1c8",
   "metadata": {},
   "source": [
    "### Train Test Split"
   ]
  },
  {
   "cell_type": "code",
   "execution_count": 15,
   "id": "cfe4af9b",
   "metadata": {},
   "outputs": [],
   "source": [
    "from sklearn.model_selection import train_test_split\n",
    "X_train,X_test, y_train, y_test = train_test_split(X, y, test_size=0.2, random_state=42)"
   ]
  },
  {
   "cell_type": "code",
   "execution_count": 16,
   "id": "cabc69de",
   "metadata": {},
   "outputs": [
    {
     "name": "stdout",
     "output_type": "stream",
     "text": [
      "(334, 8)\n",
      "(334,)\n"
     ]
    }
   ],
   "source": [
    "print(X_train.shape)\n",
    "print(y_train.shape)"
   ]
  },
  {
   "cell_type": "code",
   "execution_count": 17,
   "id": "6ba49780",
   "metadata": {},
   "outputs": [
    {
     "name": "stdout",
     "output_type": "stream",
     "text": [
      "(84, 8)\n",
      "(84,)\n"
     ]
    }
   ],
   "source": [
    "print(X_test.shape)\n",
    "print(y_test.shape)"
   ]
  },
  {
   "cell_type": "markdown",
   "id": "f75ae3ca",
   "metadata": {},
   "source": [
    "### Applying Model"
   ]
  },
  {
   "cell_type": "code",
   "execution_count": 18,
   "id": "a9128918",
   "metadata": {},
   "outputs": [],
   "source": [
    "from sklearn.ensemble import RandomForestRegressor\n",
    "rf_model = RandomForestRegressor()"
   ]
  },
  {
   "cell_type": "code",
   "execution_count": 19,
   "id": "7513ac7d",
   "metadata": {},
   "outputs": [
    {
     "data": {
      "text/plain": [
       "[100, 200, 300, 400, 500, 600, 700, 800, 900, 1000, 1100, 1200]"
      ]
     },
     "execution_count": 19,
     "metadata": {},
     "output_type": "execute_result"
    }
   ],
   "source": [
    "### Hyperparameter Tuning\n",
    "\n",
    "n_estimators = [int(x) for x in np.linspace(start=100,stop=1200,num=12)]\n",
    "n_estimators"
   ]
  },
  {
   "cell_type": "code",
   "execution_count": 20,
   "id": "77d48a79",
   "metadata": {},
   "outputs": [],
   "source": [
    "## Samething for all\n",
    "\n",
    "# No of trees\n",
    "n_estimators = [int(x) for x in np.linspace(start=100,stop=1200,num=12)]\n",
    "\n",
    "# No of features consider for every split\n",
    "max_features = ['auto','sqrt']\n",
    "\n",
    "# Maximum no of levels in tree\n",
    "max_depth = [int(x) for x in np.linspace(start=5,stop=30,num=6)]\n",
    "\n",
    "# Minumum no of samples required to split a node\n",
    "min_samples_split = [2,5,10,15,30]\n",
    "\n",
    "# Minumum no of samples required at each leaf node\n",
    "min_samples_leaf = [1,2,5,10]"
   ]
  },
  {
   "cell_type": "code",
   "execution_count": 21,
   "id": "5e943829",
   "metadata": {},
   "outputs": [],
   "source": [
    "# Randomized Search CV\n",
    "from sklearn.model_selection import RandomizedSearchCV"
   ]
  },
  {
   "cell_type": "code",
   "execution_count": 22,
   "id": "1c01f813",
   "metadata": {},
   "outputs": [
    {
     "name": "stdout",
     "output_type": "stream",
     "text": [
      "{'n_estimators': [100, 200, 300, 400, 500, 600, 700, 800, 900, 1000, 1100, 1200], 'max_features': ['auto', 'sqrt'], 'max_depth': [5, 10, 15, 20, 25, 30], 'min_samples_split': [2, 5, 10, 15, 30], 'min_samples_leaf': [1, 2, 5, 10]}\n"
     ]
    }
   ],
   "source": [
    "random_grid  = {\n",
    "    'n_estimators': n_estimators,\n",
    "    'max_features':max_features,\n",
    "    'max_depth': max_depth,\n",
    "    'min_samples_split': min_samples_split,\n",
    "    'min_samples_leaf': min_samples_leaf\n",
    "}\n",
    "\n",
    "print(random_grid)"
   ]
  },
  {
   "cell_type": "code",
   "execution_count": 23,
   "id": "824a6215",
   "metadata": {},
   "outputs": [],
   "source": [
    "# Initialize RandomizedSearchCV\n",
    "rf_model_random_search = RandomizedSearchCV(\n",
    "    estimator=rf_model,\n",
    "    param_distributions=random_grid,\n",
    "    scoring='neg_mean_squared_error',\n",
    "    n_iter=10,  # Number of parameter settings sampled\n",
    "    cv=5,       # Number of cross-validation folds\n",
    "    verbose=2,\n",
    "    n_jobs=-1,\n",
    "    random_state=42\n",
    ")"
   ]
  },
  {
   "cell_type": "code",
   "execution_count": 24,
   "id": "4e1d41fd",
   "metadata": {},
   "outputs": [
    {
     "name": "stdout",
     "output_type": "stream",
     "text": [
      "Fitting 5 folds for each of 10 candidates, totalling 50 fits\n"
     ]
    },
    {
     "name": "stderr",
     "output_type": "stream",
     "text": [
      "C:\\Anaconda\\Lib\\site-packages\\sklearn\\model_selection\\_validation.py:425: FitFailedWarning: \n",
      "20 fits failed out of a total of 50.\n",
      "The score on these train-test partitions for these parameters will be set to nan.\n",
      "If these failures are not expected, you can try to debug them by setting error_score='raise'.\n",
      "\n",
      "Below are more details about the failures:\n",
      "--------------------------------------------------------------------------------\n",
      "15 fits failed with the following error:\n",
      "Traceback (most recent call last):\n",
      "  File \"C:\\Anaconda\\Lib\\site-packages\\sklearn\\model_selection\\_validation.py\", line 732, in _fit_and_score\n",
      "    estimator.fit(X_train, y_train, **fit_params)\n",
      "  File \"C:\\Anaconda\\Lib\\site-packages\\sklearn\\base.py\", line 1144, in wrapper\n",
      "    estimator._validate_params()\n",
      "  File \"C:\\Anaconda\\Lib\\site-packages\\sklearn\\base.py\", line 637, in _validate_params\n",
      "    validate_parameter_constraints(\n",
      "  File \"C:\\Anaconda\\Lib\\site-packages\\sklearn\\utils\\_param_validation.py\", line 95, in validate_parameter_constraints\n",
      "    raise InvalidParameterError(\n",
      "sklearn.utils._param_validation.InvalidParameterError: The 'max_features' parameter of RandomForestRegressor must be an int in the range [1, inf), a float in the range (0.0, 1.0], a str among {'log2', 'sqrt'} or None. Got 'auto' instead.\n",
      "\n",
      "--------------------------------------------------------------------------------\n",
      "5 fits failed with the following error:\n",
      "Traceback (most recent call last):\n",
      "  File \"C:\\Anaconda\\Lib\\site-packages\\sklearn\\model_selection\\_validation.py\", line 732, in _fit_and_score\n",
      "    estimator.fit(X_train, y_train, **fit_params)\n",
      "  File \"C:\\Anaconda\\Lib\\site-packages\\sklearn\\base.py\", line 1144, in wrapper\n",
      "    estimator._validate_params()\n",
      "  File \"C:\\Anaconda\\Lib\\site-packages\\sklearn\\base.py\", line 637, in _validate_params\n",
      "    validate_parameter_constraints(\n",
      "  File \"C:\\Anaconda\\Lib\\site-packages\\sklearn\\utils\\_param_validation.py\", line 95, in validate_parameter_constraints\n",
      "    raise InvalidParameterError(\n",
      "sklearn.utils._param_validation.InvalidParameterError: The 'max_features' parameter of RandomForestRegressor must be an int in the range [1, inf), a float in the range (0.0, 1.0], a str among {'sqrt', 'log2'} or None. Got 'auto' instead.\n",
      "\n",
      "  warnings.warn(some_fits_failed_message, FitFailedWarning)\n",
      "C:\\Anaconda\\Lib\\site-packages\\sklearn\\model_selection\\_search.py:976: UserWarning: One or more of the test scores are non-finite: [-2.03477061e+08 -1.85018025e+08             nan             nan\n",
      "             nan -1.72970748e+08 -2.30031352e+08 -1.88333606e+08\n",
      " -1.94987682e+08             nan]\n",
      "  warnings.warn(\n"
     ]
    },
    {
     "data": {
      "text/html": [
       "<style>#sk-container-id-2 {color: black;}#sk-container-id-2 pre{padding: 0;}#sk-container-id-2 div.sk-toggleable {background-color: white;}#sk-container-id-2 label.sk-toggleable__label {cursor: pointer;display: block;width: 100%;margin-bottom: 0;padding: 0.3em;box-sizing: border-box;text-align: center;}#sk-container-id-2 label.sk-toggleable__label-arrow:before {content: \"▸\";float: left;margin-right: 0.25em;color: #696969;}#sk-container-id-2 label.sk-toggleable__label-arrow:hover:before {color: black;}#sk-container-id-2 div.sk-estimator:hover label.sk-toggleable__label-arrow:before {color: black;}#sk-container-id-2 div.sk-toggleable__content {max-height: 0;max-width: 0;overflow: hidden;text-align: left;background-color: #f0f8ff;}#sk-container-id-2 div.sk-toggleable__content pre {margin: 0.2em;color: black;border-radius: 0.25em;background-color: #f0f8ff;}#sk-container-id-2 input.sk-toggleable__control:checked~div.sk-toggleable__content {max-height: 200px;max-width: 100%;overflow: auto;}#sk-container-id-2 input.sk-toggleable__control:checked~label.sk-toggleable__label-arrow:before {content: \"▾\";}#sk-container-id-2 div.sk-estimator input.sk-toggleable__control:checked~label.sk-toggleable__label {background-color: #d4ebff;}#sk-container-id-2 div.sk-label input.sk-toggleable__control:checked~label.sk-toggleable__label {background-color: #d4ebff;}#sk-container-id-2 input.sk-hidden--visually {border: 0;clip: rect(1px 1px 1px 1px);clip: rect(1px, 1px, 1px, 1px);height: 1px;margin: -1px;overflow: hidden;padding: 0;position: absolute;width: 1px;}#sk-container-id-2 div.sk-estimator {font-family: monospace;background-color: #f0f8ff;border: 1px dotted black;border-radius: 0.25em;box-sizing: border-box;margin-bottom: 0.5em;}#sk-container-id-2 div.sk-estimator:hover {background-color: #d4ebff;}#sk-container-id-2 div.sk-parallel-item::after {content: \"\";width: 100%;border-bottom: 1px solid gray;flex-grow: 1;}#sk-container-id-2 div.sk-label:hover label.sk-toggleable__label {background-color: #d4ebff;}#sk-container-id-2 div.sk-serial::before {content: \"\";position: absolute;border-left: 1px solid gray;box-sizing: border-box;top: 0;bottom: 0;left: 50%;z-index: 0;}#sk-container-id-2 div.sk-serial {display: flex;flex-direction: column;align-items: center;background-color: white;padding-right: 0.2em;padding-left: 0.2em;position: relative;}#sk-container-id-2 div.sk-item {position: relative;z-index: 1;}#sk-container-id-2 div.sk-parallel {display: flex;align-items: stretch;justify-content: center;background-color: white;position: relative;}#sk-container-id-2 div.sk-item::before, #sk-container-id-2 div.sk-parallel-item::before {content: \"\";position: absolute;border-left: 1px solid gray;box-sizing: border-box;top: 0;bottom: 0;left: 50%;z-index: -1;}#sk-container-id-2 div.sk-parallel-item {display: flex;flex-direction: column;z-index: 1;position: relative;background-color: white;}#sk-container-id-2 div.sk-parallel-item:first-child::after {align-self: flex-end;width: 50%;}#sk-container-id-2 div.sk-parallel-item:last-child::after {align-self: flex-start;width: 50%;}#sk-container-id-2 div.sk-parallel-item:only-child::after {width: 0;}#sk-container-id-2 div.sk-dashed-wrapped {border: 1px dashed gray;margin: 0 0.4em 0.5em 0.4em;box-sizing: border-box;padding-bottom: 0.4em;background-color: white;}#sk-container-id-2 div.sk-label label {font-family: monospace;font-weight: bold;display: inline-block;line-height: 1.2em;}#sk-container-id-2 div.sk-label-container {text-align: center;}#sk-container-id-2 div.sk-container {/* jupyter's `normalize.less` sets `[hidden] { display: none; }` but bootstrap.min.css set `[hidden] { display: none !important; }` so we also need the `!important` here to be able to override the default hidden behavior on the sphinx rendered scikit-learn.org. See: https://github.com/scikit-learn/scikit-learn/issues/21755 */display: inline-block !important;position: relative;}#sk-container-id-2 div.sk-text-repr-fallback {display: none;}</style><div id=\"sk-container-id-2\" class=\"sk-top-container\"><div class=\"sk-text-repr-fallback\"><pre>RandomizedSearchCV(cv=5, estimator=RandomForestRegressor(), n_jobs=-1,\n",
       "                   param_distributions={&#x27;max_depth&#x27;: [5, 10, 15, 20, 25, 30],\n",
       "                                        &#x27;max_features&#x27;: [&#x27;auto&#x27;, &#x27;sqrt&#x27;],\n",
       "                                        &#x27;min_samples_leaf&#x27;: [1, 2, 5, 10],\n",
       "                                        &#x27;min_samples_split&#x27;: [2, 5, 10, 15, 30],\n",
       "                                        &#x27;n_estimators&#x27;: [100, 200, 300, 400,\n",
       "                                                         500, 600, 700, 800,\n",
       "                                                         900, 1000, 1100,\n",
       "                                                         1200]},\n",
       "                   random_state=42, scoring=&#x27;neg_mean_squared_error&#x27;,\n",
       "                   verbose=2)</pre><b>In a Jupyter environment, please rerun this cell to show the HTML representation or trust the notebook. <br />On GitHub, the HTML representation is unable to render, please try loading this page with nbviewer.org.</b></div><div class=\"sk-container\" hidden><div class=\"sk-item sk-dashed-wrapped\"><div class=\"sk-label-container\"><div class=\"sk-label sk-toggleable\"><input class=\"sk-toggleable__control sk-hidden--visually\" id=\"sk-estimator-id-4\" type=\"checkbox\" ><label for=\"sk-estimator-id-4\" class=\"sk-toggleable__label sk-toggleable__label-arrow\">RandomizedSearchCV</label><div class=\"sk-toggleable__content\"><pre>RandomizedSearchCV(cv=5, estimator=RandomForestRegressor(), n_jobs=-1,\n",
       "                   param_distributions={&#x27;max_depth&#x27;: [5, 10, 15, 20, 25, 30],\n",
       "                                        &#x27;max_features&#x27;: [&#x27;auto&#x27;, &#x27;sqrt&#x27;],\n",
       "                                        &#x27;min_samples_leaf&#x27;: [1, 2, 5, 10],\n",
       "                                        &#x27;min_samples_split&#x27;: [2, 5, 10, 15, 30],\n",
       "                                        &#x27;n_estimators&#x27;: [100, 200, 300, 400,\n",
       "                                                         500, 600, 700, 800,\n",
       "                                                         900, 1000, 1100,\n",
       "                                                         1200]},\n",
       "                   random_state=42, scoring=&#x27;neg_mean_squared_error&#x27;,\n",
       "                   verbose=2)</pre></div></div></div><div class=\"sk-parallel\"><div class=\"sk-parallel-item\"><div class=\"sk-item\"><div class=\"sk-label-container\"><div class=\"sk-label sk-toggleable\"><input class=\"sk-toggleable__control sk-hidden--visually\" id=\"sk-estimator-id-5\" type=\"checkbox\" ><label for=\"sk-estimator-id-5\" class=\"sk-toggleable__label sk-toggleable__label-arrow\">estimator: RandomForestRegressor</label><div class=\"sk-toggleable__content\"><pre>RandomForestRegressor()</pre></div></div></div><div class=\"sk-serial\"><div class=\"sk-item\"><div class=\"sk-estimator sk-toggleable\"><input class=\"sk-toggleable__control sk-hidden--visually\" id=\"sk-estimator-id-6\" type=\"checkbox\" ><label for=\"sk-estimator-id-6\" class=\"sk-toggleable__label sk-toggleable__label-arrow\">RandomForestRegressor</label><div class=\"sk-toggleable__content\"><pre>RandomForestRegressor()</pre></div></div></div></div></div></div></div></div></div></div>"
      ],
      "text/plain": [
       "RandomizedSearchCV(cv=5, estimator=RandomForestRegressor(), n_jobs=-1,\n",
       "                   param_distributions={'max_depth': [5, 10, 15, 20, 25, 30],\n",
       "                                        'max_features': ['auto', 'sqrt'],\n",
       "                                        'min_samples_leaf': [1, 2, 5, 10],\n",
       "                                        'min_samples_split': [2, 5, 10, 15, 30],\n",
       "                                        'n_estimators': [100, 200, 300, 400,\n",
       "                                                         500, 600, 700, 800,\n",
       "                                                         900, 1000, 1100,\n",
       "                                                         1200]},\n",
       "                   random_state=42, scoring='neg_mean_squared_error',\n",
       "                   verbose=2)"
      ]
     },
     "execution_count": 24,
     "metadata": {},
     "output_type": "execute_result"
    }
   ],
   "source": [
    "# Fit RandomizedSearchCV\n",
    "rf_model_random_search.fit(X_train, y_train)"
   ]
  },
  {
   "cell_type": "markdown",
   "id": "5a434c57",
   "metadata": {},
   "source": [
    "### Avoiding Hyperparameter errors by giving crct value after applying in small data samples"
   ]
  },
  {
   "cell_type": "code",
   "execution_count": 25,
   "id": "e5f0b2a0",
   "metadata": {},
   "outputs": [
    {
     "name": "stdout",
     "output_type": "stream",
     "text": [
      "Fitting 5 folds for each of 10 candidates, totalling 50 fits\n"
     ]
    },
    {
     "data": {
      "text/html": [
       "<style>#sk-container-id-3 {color: black;}#sk-container-id-3 pre{padding: 0;}#sk-container-id-3 div.sk-toggleable {background-color: white;}#sk-container-id-3 label.sk-toggleable__label {cursor: pointer;display: block;width: 100%;margin-bottom: 0;padding: 0.3em;box-sizing: border-box;text-align: center;}#sk-container-id-3 label.sk-toggleable__label-arrow:before {content: \"▸\";float: left;margin-right: 0.25em;color: #696969;}#sk-container-id-3 label.sk-toggleable__label-arrow:hover:before {color: black;}#sk-container-id-3 div.sk-estimator:hover label.sk-toggleable__label-arrow:before {color: black;}#sk-container-id-3 div.sk-toggleable__content {max-height: 0;max-width: 0;overflow: hidden;text-align: left;background-color: #f0f8ff;}#sk-container-id-3 div.sk-toggleable__content pre {margin: 0.2em;color: black;border-radius: 0.25em;background-color: #f0f8ff;}#sk-container-id-3 input.sk-toggleable__control:checked~div.sk-toggleable__content {max-height: 200px;max-width: 100%;overflow: auto;}#sk-container-id-3 input.sk-toggleable__control:checked~label.sk-toggleable__label-arrow:before {content: \"▾\";}#sk-container-id-3 div.sk-estimator input.sk-toggleable__control:checked~label.sk-toggleable__label {background-color: #d4ebff;}#sk-container-id-3 div.sk-label input.sk-toggleable__control:checked~label.sk-toggleable__label {background-color: #d4ebff;}#sk-container-id-3 input.sk-hidden--visually {border: 0;clip: rect(1px 1px 1px 1px);clip: rect(1px, 1px, 1px, 1px);height: 1px;margin: -1px;overflow: hidden;padding: 0;position: absolute;width: 1px;}#sk-container-id-3 div.sk-estimator {font-family: monospace;background-color: #f0f8ff;border: 1px dotted black;border-radius: 0.25em;box-sizing: border-box;margin-bottom: 0.5em;}#sk-container-id-3 div.sk-estimator:hover {background-color: #d4ebff;}#sk-container-id-3 div.sk-parallel-item::after {content: \"\";width: 100%;border-bottom: 1px solid gray;flex-grow: 1;}#sk-container-id-3 div.sk-label:hover label.sk-toggleable__label {background-color: #d4ebff;}#sk-container-id-3 div.sk-serial::before {content: \"\";position: absolute;border-left: 1px solid gray;box-sizing: border-box;top: 0;bottom: 0;left: 50%;z-index: 0;}#sk-container-id-3 div.sk-serial {display: flex;flex-direction: column;align-items: center;background-color: white;padding-right: 0.2em;padding-left: 0.2em;position: relative;}#sk-container-id-3 div.sk-item {position: relative;z-index: 1;}#sk-container-id-3 div.sk-parallel {display: flex;align-items: stretch;justify-content: center;background-color: white;position: relative;}#sk-container-id-3 div.sk-item::before, #sk-container-id-3 div.sk-parallel-item::before {content: \"\";position: absolute;border-left: 1px solid gray;box-sizing: border-box;top: 0;bottom: 0;left: 50%;z-index: -1;}#sk-container-id-3 div.sk-parallel-item {display: flex;flex-direction: column;z-index: 1;position: relative;background-color: white;}#sk-container-id-3 div.sk-parallel-item:first-child::after {align-self: flex-end;width: 50%;}#sk-container-id-3 div.sk-parallel-item:last-child::after {align-self: flex-start;width: 50%;}#sk-container-id-3 div.sk-parallel-item:only-child::after {width: 0;}#sk-container-id-3 div.sk-dashed-wrapped {border: 1px dashed gray;margin: 0 0.4em 0.5em 0.4em;box-sizing: border-box;padding-bottom: 0.4em;background-color: white;}#sk-container-id-3 div.sk-label label {font-family: monospace;font-weight: bold;display: inline-block;line-height: 1.2em;}#sk-container-id-3 div.sk-label-container {text-align: center;}#sk-container-id-3 div.sk-container {/* jupyter's `normalize.less` sets `[hidden] { display: none; }` but bootstrap.min.css set `[hidden] { display: none !important; }` so we also need the `!important` here to be able to override the default hidden behavior on the sphinx rendered scikit-learn.org. See: https://github.com/scikit-learn/scikit-learn/issues/21755 */display: inline-block !important;position: relative;}#sk-container-id-3 div.sk-text-repr-fallback {display: none;}</style><div id=\"sk-container-id-3\" class=\"sk-top-container\"><div class=\"sk-text-repr-fallback\"><pre>RandomizedSearchCV(cv=5, estimator=RandomForestRegressor(random_state=42),\n",
       "                   n_jobs=-1,\n",
       "                   param_distributions={&#x27;bootstrap&#x27;: [True, False],\n",
       "                                        &#x27;max_depth&#x27;: [None, 10, 20, 30, 40, 50],\n",
       "                                        &#x27;max_features&#x27;: [&#x27;sqrt&#x27;, &#x27;log2&#x27;, None],\n",
       "                                        &#x27;min_samples_leaf&#x27;: [1, 2, 4],\n",
       "                                        &#x27;min_samples_split&#x27;: [2, 5, 10],\n",
       "                                        &#x27;n_estimators&#x27;: [100, 150, 200, 250,\n",
       "                                                         300]},\n",
       "                   random_state=42, scoring=&#x27;neg_mean_squared_error&#x27;,\n",
       "                   verbose=2)</pre><b>In a Jupyter environment, please rerun this cell to show the HTML representation or trust the notebook. <br />On GitHub, the HTML representation is unable to render, please try loading this page with nbviewer.org.</b></div><div class=\"sk-container\" hidden><div class=\"sk-item sk-dashed-wrapped\"><div class=\"sk-label-container\"><div class=\"sk-label sk-toggleable\"><input class=\"sk-toggleable__control sk-hidden--visually\" id=\"sk-estimator-id-7\" type=\"checkbox\" ><label for=\"sk-estimator-id-7\" class=\"sk-toggleable__label sk-toggleable__label-arrow\">RandomizedSearchCV</label><div class=\"sk-toggleable__content\"><pre>RandomizedSearchCV(cv=5, estimator=RandomForestRegressor(random_state=42),\n",
       "                   n_jobs=-1,\n",
       "                   param_distributions={&#x27;bootstrap&#x27;: [True, False],\n",
       "                                        &#x27;max_depth&#x27;: [None, 10, 20, 30, 40, 50],\n",
       "                                        &#x27;max_features&#x27;: [&#x27;sqrt&#x27;, &#x27;log2&#x27;, None],\n",
       "                                        &#x27;min_samples_leaf&#x27;: [1, 2, 4],\n",
       "                                        &#x27;min_samples_split&#x27;: [2, 5, 10],\n",
       "                                        &#x27;n_estimators&#x27;: [100, 150, 200, 250,\n",
       "                                                         300]},\n",
       "                   random_state=42, scoring=&#x27;neg_mean_squared_error&#x27;,\n",
       "                   verbose=2)</pre></div></div></div><div class=\"sk-parallel\"><div class=\"sk-parallel-item\"><div class=\"sk-item\"><div class=\"sk-label-container\"><div class=\"sk-label sk-toggleable\"><input class=\"sk-toggleable__control sk-hidden--visually\" id=\"sk-estimator-id-8\" type=\"checkbox\" ><label for=\"sk-estimator-id-8\" class=\"sk-toggleable__label sk-toggleable__label-arrow\">estimator: RandomForestRegressor</label><div class=\"sk-toggleable__content\"><pre>RandomForestRegressor(random_state=42)</pre></div></div></div><div class=\"sk-serial\"><div class=\"sk-item\"><div class=\"sk-estimator sk-toggleable\"><input class=\"sk-toggleable__control sk-hidden--visually\" id=\"sk-estimator-id-9\" type=\"checkbox\" ><label for=\"sk-estimator-id-9\" class=\"sk-toggleable__label sk-toggleable__label-arrow\">RandomForestRegressor</label><div class=\"sk-toggleable__content\"><pre>RandomForestRegressor(random_state=42)</pre></div></div></div></div></div></div></div></div></div></div>"
      ],
      "text/plain": [
       "RandomizedSearchCV(cv=5, estimator=RandomForestRegressor(random_state=42),\n",
       "                   n_jobs=-1,\n",
       "                   param_distributions={'bootstrap': [True, False],\n",
       "                                        'max_depth': [None, 10, 20, 30, 40, 50],\n",
       "                                        'max_features': ['sqrt', 'log2', None],\n",
       "                                        'min_samples_leaf': [1, 2, 4],\n",
       "                                        'min_samples_split': [2, 5, 10],\n",
       "                                        'n_estimators': [100, 150, 200, 250,\n",
       "                                                         300]},\n",
       "                   random_state=42, scoring='neg_mean_squared_error',\n",
       "                   verbose=2)"
      ]
     },
     "execution_count": 25,
     "metadata": {},
     "output_type": "execute_result"
    }
   ],
   "source": [
    "# Initialize the RandomForestRegressor\n",
    "rf_model = RandomForestRegressor(random_state=42)\n",
    "\n",
    "# Define a parameter grid for RandomizedSearchCV\n",
    "random_grid = {\n",
    "    'n_estimators': [100, 150, 200, 250, 300],\n",
    "    'max_features': ['sqrt', 'log2', None],  # Fixed values\n",
    "    'max_depth': [None, 10, 20, 30, 40, 50],\n",
    "    'min_samples_split': [2, 5, 10],\n",
    "    'min_samples_leaf': [1, 2, 4],\n",
    "    'bootstrap': [True, False]\n",
    "}\n",
    "\n",
    "# Initialize RandomizedSearchCV\n",
    "rf_model_random_search = RandomizedSearchCV(\n",
    "    estimator=rf_model,\n",
    "    param_distributions=random_grid,\n",
    "    scoring='neg_mean_squared_error',\n",
    "    n_iter=10,  # Number of parameter settings sampled\n",
    "    cv=5,       # Number of cross-validation folds\n",
    "    verbose=2,\n",
    "    n_jobs=-1,\n",
    "    random_state=42\n",
    ")\n",
    "\n",
    "# Fit RandomizedSearchCV\n",
    "rf_model_random_search.fit(X_train, y_train)"
   ]
  },
  {
   "cell_type": "code",
   "execution_count": 26,
   "id": "7f555d27",
   "metadata": {},
   "outputs": [
    {
     "data": {
      "text/plain": [
       "array([176918.31507123, 145179.01768561,  88463.59719529,  52964.29104478,\n",
       "        40381.37264476, 170262.37401408, 156285.18832053,  49918.71951085,\n",
       "        37965.98802937, 148248.67427902, 120315.07374941, 122860.63664596,\n",
       "       113353.88069358,  72903.43235676, 169342.1020459 , 139703.49265508,\n",
       "        88463.59719529,  50327.62437811,  85851.08190523,  91490.85910005,\n",
       "        68385.05484028, 178754.74856605,  90175.02736337, 105122.29102019,\n",
       "       158140.26768561,  91253.60595525,  49531.79104478, 105454.41989924,\n",
       "        68385.05484028, 160690.45054039, 149978.98410808,  60046.2448113 ,\n",
       "       113232.60093168, 159341.52196896, 120448.06958801, 129202.89855072,\n",
       "        50241.23548922, 158012.56927291, 171797.5461851 ,  98573.38393459,\n",
       "        85086.34049468,  76899.60051686, 123477.95054039,  40135.95771144,\n",
       "        52069.10412624,  49758.45771144, 122860.63664596, 125151.68709953,\n",
       "        95086.52262192,  85361.21624291,  68998.08194767, 138955.15932175,\n",
       "       158012.56927291,  60046.2448113 , 168294.84014114,  64552.29070661,\n",
       "       138486.44900429,  50134.76723525, 156169.55339989,  36893.33866382,\n",
       "        52165.50899349, 177816.13745494,  52798.87437811, 171755.58189938,\n",
       "       141454.79149513, 177816.13745494,  49570.73161911, 133297.40138524,\n",
       "        60313.31413903, 156169.55339989,  40441.79104478,  52410.69780217,\n",
       "       122860.63664596,  42827.65469604,  59673.17846608, 105454.41989924,\n",
       "        90175.02736337, 110847.0876383 ,  37767.65469604, 155096.17427902,\n",
       "        99716.89935065, 105993.49378882, 127108.65960799, 123487.4897109 ])"
      ]
     },
     "execution_count": 26,
     "metadata": {},
     "output_type": "execute_result"
    }
   ],
   "source": [
    "y_pred = rf_model_random_search.predict(X_test)\n",
    "y_pred"
   ]
  },
  {
   "cell_type": "code",
   "execution_count": 27,
   "id": "86ac39f2",
   "metadata": {},
   "outputs": [
    {
     "data": {
      "text/plain": [
       "{'n_estimators': 100,\n",
       " 'min_samples_split': 2,\n",
       " 'min_samples_leaf': 2,\n",
       " 'max_features': 'sqrt',\n",
       " 'max_depth': 20,\n",
       " 'bootstrap': False}"
      ]
     },
     "execution_count": 27,
     "metadata": {},
     "output_type": "execute_result"
    }
   ],
   "source": [
    "rf_model_random_search.best_params_"
   ]
  },
  {
   "cell_type": "code",
   "execution_count": 28,
   "id": "03f952e9",
   "metadata": {},
   "outputs": [
    {
     "data": {
      "text/plain": [
       "<Axes: xlabel='Salary', ylabel='Count'>"
      ]
     },
     "execution_count": 28,
     "metadata": {},
     "output_type": "execute_result"
    },
    {
     "data": {
      "image/png": "[encoded data removed]",
      "text/plain": [
       "<Figure size 640x480 with 1 Axes>"
      ]
     },
     "metadata": {},
     "output_type": "display_data"
    }
   ],
   "source": [
    "# Plot for Accuracy\n",
    "import seaborn as sns\n",
    "sns.histplot(y_test-y_pred,kde=True)"
   ]
  },
  {
   "cell_type": "code",
   "execution_count": 29,
   "id": "7812eba5",
   "metadata": {},
   "outputs": [
    {
     "data": {
      "text/plain": [
       "<matplotlib.collections.PathCollection at 0x168b99a4b50>"
      ]
     },
     "execution_count": 29,
     "metadata": {},
     "output_type": "execute_result"
    },
    {
     "data": {
      "image/png": "[encoded data removed]",
      "text/plain": [
       "<Figure size 640x480 with 1 Axes>"
      ]
     },
     "metadata": {},
     "output_type": "display_data"
    }
   ],
   "source": [
    "import matplotlib.pyplot as plt\n",
    "plt.scatter(y_test,y_pred)"
   ]
  },
  {
   "cell_type": "code",
   "execution_count": 30,
   "id": "6f9b881c",
   "metadata": {},
   "outputs": [
    {
     "name": "stdout",
     "output_type": "stream",
     "text": [
      "Mean Squared Error (MSE): 275282011.0468442\n",
      "R² Score: 0.8951454784526234\n",
      "RMSE: 16591.624725952675\n"
     ]
    }
   ],
   "source": [
    "from sklearn.metrics import mean_squared_error, r2_score\n",
    "\n",
    "\n",
    "# Calculate Mean Squared Error (MSE)\n",
    "mse = mean_squared_error(y_test, y_pred)\n",
    "\n",
    "# Calculate R² score\n",
    "r2 = r2_score(y_test, y_pred)\n",
    "\n",
    "# Calculate Root Mean Squared Error (RMSE)\n",
    "rmse = np.sqrt(mse)\n",
    "\n",
    "# Print the results\n",
    "print(\"Mean Squared Error (MSE):\", mse)\n",
    "print(\"R² Score:\", r2)\n",
    "print(\"RMSE:\",rmse)"
   ]
  },
  {
   "cell_type": "code",
   "execution_count": 35,
   "id": "d3e07ea8",
   "metadata": {},
   "outputs": [],
   "source": [
    "import pickle\n",
    "from sklearn.ensemble import RandomForestRegressor\n",
    "\n",
    "\n",
    "# Save the model using pickle\n",
    "with open('salary_prediction_model.pkl', 'wb') as file:\n",
    "    pickle.dump(rf_model_random_search, file)"
   ]
  },
  {
   "cell_type": "code",
   "execution_count": null,
   "id": "2438b4d5",
   "metadata": {},
   "outputs": [],
   "source": []
  }
 ],
 "metadata": {
  "kernelspec": {
   "display_name": "Python 3 (ipykernel)",
   "language": "python",
   "name": "python3"
  },
  "language_info": {
   "codemirror_mode": {
    "name": "ipython",
    "version": 3
   },
   "file_extension": ".py",
   "mimetype": "text/x-python",
   "name": "python",
   "nbconvert_exporter": "python",
   "pygments_lexer": "ipython3",
   "version": "3.11.5"
  }
 },
 "nbformat": 4,
 "nbformat_minor": 5
}
